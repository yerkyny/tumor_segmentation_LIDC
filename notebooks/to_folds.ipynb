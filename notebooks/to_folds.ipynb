{
 "cells": [
  {
   "cell_type": "markdown",
   "metadata": {},
   "source": [
    "# Creating a table with paths\n",
    "\n",
    "Created a table with the following columns: \n",
    "- cts_path, bone_path, fold. \n",
    "\n",
    "Data directory:\n",
    "/home/yerkyn/tumor_seg/data"
   ]
  },
  {
   "cell_type": "code",
   "execution_count": 1,
   "metadata": {},
   "outputs": [],
   "source": [
    "import os\n",
    "from natsort import natsorted\n",
    "import pandas as pd\n",
    "import random\n",
    "import numpy as np\n",
    "import glob\n",
    "from sklearn.model_selection import train_test_split\n"
   ]
  },
  {
   "cell_type": "code",
   "execution_count": 2,
   "metadata": {},
   "outputs": [],
   "source": [
    "cts_dir = \"/home/yerkyn/tumor_seg/data/img/\"\n",
    "masks_dir = \"/home/yerkyn/tumor_seg/data/seg/\""
   ]
  },
  {
   "cell_type": "code",
   "execution_count": 3,
   "metadata": {},
   "outputs": [],
   "source": [
    "cts_files = natsorted(glob.glob(os.path.join(cts_dir, \"*.nii.gz\")))\n",
    "masks_files = natsorted(glob.glob(os.path.join(masks_dir, \"*.nii.gz\")))"
   ]
  },
  {
   "cell_type": "code",
   "execution_count": 4,
   "metadata": {},
   "outputs": [
    {
     "data": {
      "text/plain": [
       "True"
      ]
     },
     "execution_count": 4,
     "metadata": {},
     "output_type": "execute_result"
    }
   ],
   "source": [
    "len(cts_files) == len(masks_files)"
   ]
  },
  {
   "cell_type": "code",
   "execution_count": null,
   "metadata": {},
   "outputs": [],
   "source": [
    "masks_dict = {os.path.basename(mask): mask for mask in masks_files}"
   ]
  },
  {
   "cell_type": "code",
   "execution_count": 6,
   "metadata": {},
   "outputs": [],
   "source": [
    "data = []\n",
    "\n",
    "for cts_path in cts_files:\n",
    "    filename = os.path.basename(cts_path)\n",
    "    \n",
    "    if filename in masks_dict:\n",
    "        mask_path = masks_dict[filename]\n",
    "        \n",
    "        data.append({\n",
    "            \"cts_path\": cts_path,\n",
    "            \"masks_path\": mask_path,\n",
    "            \"fold\": np.nan  \n",
    "        })\n",
    "\n",
    "df = pd.DataFrame(data, columns=[\"cts_path\", \"masks_path\", \"fold\"])"
   ]
  },
  {
   "cell_type": "code",
   "execution_count": 8,
   "metadata": {},
   "outputs": [
    {
     "data": {
      "text/plain": [
       "True    2240\n",
       "dtype: int64"
      ]
     },
     "execution_count": 8,
     "metadata": {},
     "output_type": "execute_result"
    }
   ],
   "source": [
    "(df['cts_path'].apply(lambda x: os.path.basename(x)) == df['masks_path'].apply(lambda x: os.path.basename(x))).value_counts()"
   ]
  },
  {
   "cell_type": "code",
   "execution_count": 9,
   "metadata": {},
   "outputs": [],
   "source": [
    "train_val_df, test_df = train_test_split(df, test_size=0.1, random_state=42)\n",
    "train_df, val_df = train_test_split(train_val_df, test_size=0.1111, random_state=42)  # 0.1111 * 0.9 ≈ 0.1\n",
    "\n",
    "train_df['fold'] = 0\n",
    "val_df['fold'] = 1\n",
    "test_df['fold'] = 2\n",
    "\n",
    "final_df = pd.concat([train_df, val_df, test_df]).reset_index(drop=True)"
   ]
  },
  {
   "cell_type": "code",
   "execution_count": 12,
   "metadata": {},
   "outputs": [],
   "source": [
    "fold_01_df = final_df[final_df['fold'].isin([0, 1])]\n",
    "fold_2_df = final_df[final_df['fold'] == 2]\n",
    "\n",
    "csv_path_fold_01 = '/home/yerkyn/tumor_seg/data/tumor_train_dataset.csv'\n",
    "csv_path_fold_2 = '/home/yerkyn/tumor_seg/data/tumor_test_dataset.csv'\n",
    "\n",
    "fold_01_df.to_csv(csv_path_fold_01, index=False)\n",
    "fold_2_df.to_csv(csv_path_fold_2, index=False)"
   ]
  }
 ],
 "metadata": {
  "kernelspec": {
   "display_name": "Python 3",
   "language": "python",
   "name": "python3"
  },
  "language_info": {
   "codemirror_mode": {
    "name": "ipython",
    "version": 3
   },
   "file_extension": ".py",
   "mimetype": "text/x-python",
   "name": "python",
   "nbconvert_exporter": "python",
   "pygments_lexer": "ipython3",
   "version": "3.11.6"
  }
 },
 "nbformat": 4,
 "nbformat_minor": 2
}
